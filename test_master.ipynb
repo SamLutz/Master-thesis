{
  "nbformat": 4,
  "nbformat_minor": 0,
  "metadata": {
    "colab": {
      "provenance": [],
      "authorship_tag": "ABX9TyN23pWiuPU8dEnwsWtwU+BM",
      "include_colab_link": true
    },
    "kernelspec": {
      "name": "python3",
      "display_name": "Python 3"
    },
    "language_info": {
      "name": "python"
    }
  },
  "cells": [
    {
      "cell_type": "markdown",
      "metadata": {
        "id": "view-in-github",
        "colab_type": "text"
      },
      "source": [
        "<a href=\"https://colab.research.google.com/github/SamLutz/Master-thesis/blob/main/test_master.ipynb\" target=\"_parent\"><img src=\"https://colab.research.google.com/assets/colab-badge.svg\" alt=\"Open In Colab\"/></a>"
      ]
    },
    {
      "cell_type": "markdown",
      "source": [
        "Master Thesis  \n",
        "Author : Samuel Lutz  \n",
        "Date: SP 25"
      ],
      "metadata": {
        "id": "XqGWbdj1R5Od"
      }
    },
    {
      "cell_type": "code",
      "execution_count": null,
      "metadata": {
        "id": "rgcFh3H-RmWJ",
        "colab": {
          "base_uri": "https://localhost:8080/"
        },
        "outputId": "284eea05-eba5-406b-e513-dc0882b085a0"
      },
      "outputs": [
        {
          "output_type": "stream",
          "name": "stdout",
          "text": [
            "Collecting netCDF4\n",
            "  Downloading netCDF4-1.7.2-cp311-cp311-manylinux_2_17_x86_64.manylinux2014_x86_64.whl.metadata (1.8 kB)\n",
            "Collecting cftime (from netCDF4)\n",
            "  Downloading cftime-1.6.4.post1-cp311-cp311-manylinux_2_17_x86_64.manylinux2014_x86_64.whl.metadata (8.7 kB)\n",
            "Requirement already satisfied: certifi in /usr/local/lib/python3.11/dist-packages (from netCDF4) (2025.1.31)\n",
            "Requirement already satisfied: numpy in /usr/local/lib/python3.11/dist-packages (from netCDF4) (1.26.4)\n",
            "Downloading netCDF4-1.7.2-cp311-cp311-manylinux_2_17_x86_64.manylinux2014_x86_64.whl (9.3 MB)\n",
            "\u001b[2K   \u001b[90m━━━━━━━━━━━━━━━━━━━━━━━━━━━━━━━━━━━━━━━━\u001b[0m \u001b[32m9.3/9.3 MB\u001b[0m \u001b[31m27.1 MB/s\u001b[0m eta \u001b[36m0:00:00\u001b[0m\n",
            "\u001b[?25hDownloading cftime-1.6.4.post1-cp311-cp311-manylinux_2_17_x86_64.manylinux2014_x86_64.whl (1.4 MB)\n",
            "\u001b[2K   \u001b[90m━━━━━━━━━━━━━━━━━━━━━━━━━━━━━━━━━━━━━━━━\u001b[0m \u001b[32m1.4/1.4 MB\u001b[0m \u001b[31m21.9 MB/s\u001b[0m eta \u001b[36m0:00:00\u001b[0m\n",
            "\u001b[?25hInstalling collected packages: cftime, netCDF4\n",
            "Successfully installed cftime-1.6.4.post1 netCDF4-1.7.2\n",
            "Requirement already satisfied: xarray in /usr/local/lib/python3.11/dist-packages (2025.1.2)\n",
            "Requirement already satisfied: numpy>=1.24 in /usr/local/lib/python3.11/dist-packages (from xarray) (1.26.4)\n",
            "Requirement already satisfied: packaging>=23.2 in /usr/local/lib/python3.11/dist-packages (from xarray) (24.2)\n",
            "Requirement already satisfied: pandas>=2.1 in /usr/local/lib/python3.11/dist-packages (from xarray) (2.2.2)\n",
            "Requirement already satisfied: python-dateutil>=2.8.2 in /usr/local/lib/python3.11/dist-packages (from pandas>=2.1->xarray) (2.8.2)\n",
            "Requirement already satisfied: pytz>=2020.1 in /usr/local/lib/python3.11/dist-packages (from pandas>=2.1->xarray) (2025.1)\n",
            "Requirement already satisfied: tzdata>=2022.7 in /usr/local/lib/python3.11/dist-packages (from pandas>=2.1->xarray) (2025.1)\n",
            "Requirement already satisfied: six>=1.5 in /usr/local/lib/python3.11/dist-packages (from python-dateutil>=2.8.2->pandas>=2.1->xarray) (1.17.0)\n"
          ]
        }
      ],
      "source": [
        "!pip install netCDF4\n",
        "!pip install xarray\n",
        "import os\n",
        "import numpy as np\n",
        "import xarray as xr\n",
        "from netCDF4 import Dataset\n",
        "from datetime import datetime\n",
        "import pooch\n",
        "import netCDF4 as nc\n",
        "import matplotlib.pyplot as plt"
      ]
    },
    {
      "cell_type": "markdown",
      "source": [
        "Download data from Onedrive with Pooch & give names to files\n"
      ],
      "metadata": {
        "id": "QB8sw-HqVgnZ"
      }
    },
    {
      "cell_type": "code",
      "source": [
        "# List of OneDrive files with their URLs\n",
        "files_urls = [\n",
        "    'https://unils-my.sharepoint.com/:u:/g/personal/samuel_lutz_unil_ch/ETZKTEtpxVdCodl8ZePIhfgBDJ7_EelwGBjdb4_y3L6fdw?download=1'\n",
        "    'https://unils-my.sharepoint.com/:u:/g/personal/samuel_lutz_unil_ch/EdhDp63kVmxKnYOwZY9c__QB6sLHoa1sFL-Hixgw1D3T0A?download=1',\n",
        "    'https://unils-my.sharepoint.com/:u:/g/personal/samuel_lutz_unil_ch/EZWsSdBQ8lhAuhOd6zj1VIoBNO9nST6rkvxEAQBMFqBYfw?download=1',\n",
        "]\n",
        "\n",
        "# Hashed file values (optional, use None if unknown)\n",
        "hashes = [None] * len(files_urls)  # None for all files if you don't know their fingerprints"
      ],
      "metadata": {
        "id": "JPACzZI6TJMb"
      },
      "execution_count": null,
      "outputs": []
    },
    {
      "cell_type": "code",
      "source": [],
      "metadata": {
        "id": "5vNuuCm5TJKW"
      },
      "execution_count": null,
      "outputs": []
    },
    {
      "cell_type": "code",
      "source": [],
      "metadata": {
        "id": "OB-m2UfvTJHv"
      },
      "execution_count": null,
      "outputs": []
    },
    {
      "cell_type": "code",
      "source": [],
      "metadata": {
        "id": "CZJl9CmGTJFZ"
      },
      "execution_count": null,
      "outputs": []
    },
    {
      "cell_type": "code",
      "source": [],
      "metadata": {
        "id": "LnDQE3HbTJCy"
      },
      "execution_count": null,
      "outputs": []
    },
    {
      "cell_type": "code",
      "source": [],
      "metadata": {
        "id": "H4Q2MvQ6TI_-"
      },
      "execution_count": null,
      "outputs": []
    },
    {
      "cell_type": "code",
      "source": [],
      "metadata": {
        "id": "kNFgjJxoTI3Y"
      },
      "execution_count": null,
      "outputs": []
    }
  ]
}