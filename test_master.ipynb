{
  "nbformat": 4,
  "nbformat_minor": 0,
  "metadata": {
    "colab": {
      "provenance": [],
      "authorship_tag": "ABX9TyOxOmZx8TmGnUPGlYDLNqXr",
      "include_colab_link": true
    },
    "kernelspec": {
      "name": "python3",
      "display_name": "Python 3"
    },
    "language_info": {
      "name": "python"
    }
  },
  "cells": [
    {
      "cell_type": "markdown",
      "metadata": {
        "id": "view-in-github",
        "colab_type": "text"
      },
      "source": [
        "<a href=\"https://colab.research.google.com/github/SamLutz/Master-thesis/blob/main/test_master.ipynb\" target=\"_parent\"><img src=\"https://colab.research.google.com/assets/colab-badge.svg\" alt=\"Open In Colab\"/></a>"
      ]
    },
    {
      "cell_type": "markdown",
      "source": [
        "Master Thesis  \n",
        "Author : Samuel Lutz  \n",
        "Date: SP 25"
      ],
      "metadata": {
        "id": "XqGWbdj1R5Od"
      }
    },
    {
      "cell_type": "code",
      "execution_count": null,
      "metadata": {
        "id": "rgcFh3H-RmWJ",
        "colab": {
          "base_uri": "https://localhost:8080/"
        },
        "outputId": "89378305-4651-4df0-c542-d31aa09b1ee3"
      },
      "outputs": [
        {
          "output_type": "stream",
          "name": "stdout",
          "text": [
            "Requirement already satisfied: netCDF4 in /usr/local/lib/python3.11/dist-packages (1.7.2)\n",
            "Requirement already satisfied: cftime in /usr/local/lib/python3.11/dist-packages (from netCDF4) (1.6.4.post1)\n",
            "Requirement already satisfied: certifi in /usr/local/lib/python3.11/dist-packages (from netCDF4) (2025.1.31)\n",
            "Requirement already satisfied: numpy in /usr/local/lib/python3.11/dist-packages (from netCDF4) (1.26.4)\n",
            "Requirement already satisfied: xarray in /usr/local/lib/python3.11/dist-packages (2025.1.2)\n",
            "Requirement already satisfied: numpy>=1.24 in /usr/local/lib/python3.11/dist-packages (from xarray) (1.26.4)\n",
            "Requirement already satisfied: packaging>=23.2 in /usr/local/lib/python3.11/dist-packages (from xarray) (24.2)\n",
            "Requirement already satisfied: pandas>=2.1 in /usr/local/lib/python3.11/dist-packages (from xarray) (2.2.2)\n",
            "Requirement already satisfied: python-dateutil>=2.8.2 in /usr/local/lib/python3.11/dist-packages (from pandas>=2.1->xarray) (2.8.2)\n",
            "Requirement already satisfied: pytz>=2020.1 in /usr/local/lib/python3.11/dist-packages (from pandas>=2.1->xarray) (2025.1)\n",
            "Requirement already satisfied: tzdata>=2022.7 in /usr/local/lib/python3.11/dist-packages (from pandas>=2.1->xarray) (2025.1)\n",
            "Requirement already satisfied: six>=1.5 in /usr/local/lib/python3.11/dist-packages (from python-dateutil>=2.8.2->pandas>=2.1->xarray) (1.17.0)\n"
          ]
        }
      ],
      "source": [
        "!pip install netCDF4\n",
        "!pip install xarray\n",
        "import os\n",
        "import numpy as np\n",
        "import xarray as xr\n",
        "from netCDF4 import Dataset\n",
        "from datetime import datetime\n",
        "import pooch\n",
        "import netCDF4 as nc\n",
        "import matplotlib.pyplot as plt"
      ]
    },
    {
      "cell_type": "markdown",
      "source": [
        "Download data from Onedrive with Pooch & give names to files\n"
      ],
      "metadata": {
        "id": "QB8sw-HqVgnZ"
      }
    },
    {
      "cell_type": "code",
      "source": [
        "# List of OneDrive files with their URLs\n",
        "files_urls = [\n",
        "    'https://unils-my.sharepoint.com/:f:/g/personal/samuel_lutz_unil_ch/Eh8nUEHeGCZCjtWw_x73f_4BifVWdtVadZBfJwPdFZawEA?download=1',\n",
        "    'https://unils-my.sharepoint.com/:u:/g/personal/samuel_lutz_unil_ch/EdhDp63kVmxKnYOwZY9c__QBl6ApljIPHZDPrWSL3msYiA?download=1',\n",
        "    'https://unils-my.sharepoint.com/:u:/g/personal/samuel_lutz_unil_ch/EZWsSdBQ8lhAuhOd6zj1VIoBNDvSfD-eDV7g-hwq2Aazdg?download=1',\n",
        "    'https://unils-my.sharepoint.com/:u:/g/personal/samuel_lutz_unil_ch/ESfJx4dv55hHuA4L2bzb6LkBrHp8JyuSxq1-5oA2XqllvQ?download=1',\n",
        "    'https://unils-my.sharepoint.com/:u:/g/personal/samuel_lutz_unil_ch/Eb6nAx8kQvRIttOz_TQQR9YBORSNw1VoxOgxia_uuM8gzQ?download=1',\n",
        "    'https://unils-my.sharepoint.com/:u:/g/personal/samuel_lutz_unil_ch/EXtCNMxKKJRNpmQqto2Mu6QB9ZzwtUPoK_QT6K1j-ScPjA?download=1',\n",
        "]\n",
        "\n",
        "# Hashed file values (optional, use None if unknown)\n",
        "hashes = [None] * len(files_urls)  # None for all files if you don't know their fingerprints"
      ],
      "metadata": {
        "id": "JPACzZI6TJMb"
      },
      "execution_count": null,
      "outputs": []
    },
    {
      "cell_type": "code",
      "source": [
        "file_names = [\"Meteostation_08_12.nc\", \"Meteostation_08_19.nc\", \"Meteostation_08_26.nc\", \"Meteostation_10_07.nc\",\"Meteostation_10_14.nc\",\"Meteostation_10_21.nc\"]\n",
        "downloaded_files = []  # List for storing the paths of downloaded files\n",
        "\n",
        "for url, name in zip(files_urls, file_names):\n",
        "    file_path = pooch.retrieve(url, known_hash=None, fname=name)  # Save with the right name\n",
        "    downloaded_files.append(file_path)\n",
        "\n",
        "print(\"Fichiers téléchargés :\", downloaded_files)"
      ],
      "metadata": {
        "id": "5vNuuCm5TJKW",
        "colab": {
          "base_uri": "https://localhost:8080/"
        },
        "outputId": "a639ac9f-deda-4f3e-efee-5b4bbc2e1535"
      },
      "execution_count": null,
      "outputs": [
        {
          "output_type": "stream",
          "name": "stdout",
          "text": [
            "Fichiers téléchargés : ['/root/.cache/pooch/Meteostation_08_12.nc', '/root/.cache/pooch/Meteostation_08_19.nc', '/root/.cache/pooch/Meteostation_08_26.nc', '/root/.cache/pooch/Meteostation_10_07.nc', '/root/.cache/pooch/Meteostation_10_14.nc', '/root/.cache/pooch/Meteostation_10_21.nc']\n"
          ]
        }
      ]
    },
    {
      "cell_type": "code",
      "source": [
        "import xarray as xr\n",
        "\n",
        "for file_path in downloaded_files:\n",
        "    try:\n",
        "        dataset = xr.open_dataset(file_path)\n",
        "        print(f\"Fichier : {file_path}\")\n",
        "        print(\"Variables disponibles :\", list(dataset.variables))  # Using list for display\n",
        "        all_variables.append(list(dataset.variables))  # Storing as list\n",
        "    except Exception as e:\n",
        "        print(f\"Error opening {file_path}: {e}\")"
      ],
      "metadata": {
        "id": "LnDQE3HbTJCy",
        "colab": {
          "base_uri": "https://localhost:8080/"
        },
        "outputId": "25c5183d-6aa1-4f84-eed0-84cf49e3b218"
      },
      "execution_count": null,
      "outputs": [
        {
          "output_type": "stream",
          "name": "stdout",
          "text": [
            "Error opening /root/.cache/pooch/Meteostation_08_12.nc: did not find a match in any of xarray's currently installed IO backends ['netcdf4', 'h5netcdf', 'scipy']. Consider explicitly selecting one of the installed engines via the ``engine`` parameter, or installing additional IO dependencies, see:\n",
            "https://docs.xarray.dev/en/stable/getting-started-guide/installing.html\n",
            "https://docs.xarray.dev/en/stable/user-guide/io.html\n",
            "Fichier : /root/.cache/pooch/Meteostation_08_19.nc\n",
            "Variables disponibles : ['time', 'Batt', 'Ptemp', 'AirTC', 'RH', 'Slrw', 'Slrm', 'WS', 'WindDir', 'Rain', 'BP', 'WindGust', 'time_qual', 'Batt_qual', 'Ptemp_qual', 'AirTC_qual', 'RH_qual', 'Slrw_qual', 'Slrm_qual', 'WS_qual', 'WindDir_qual', 'Rain_qual', 'BP_qual', 'WindGust_qual']\n",
            "Error opening /root/.cache/pooch/Meteostation_08_19.nc: name 'all_variables' is not defined\n",
            "Fichier : /root/.cache/pooch/Meteostation_08_26.nc\n",
            "Variables disponibles : ['time', 'Batt', 'Ptemp', 'AirTC', 'RH', 'Slrw', 'Slrm', 'WS', 'WindDir', 'Rain', 'BP', 'WindGust', 'time_qual', 'Batt_qual', 'Ptemp_qual', 'AirTC_qual', 'RH_qual', 'Slrw_qual', 'Slrm_qual', 'WS_qual', 'WindDir_qual', 'Rain_qual', 'BP_qual', 'WindGust_qual']\n",
            "Error opening /root/.cache/pooch/Meteostation_08_26.nc: name 'all_variables' is not defined\n",
            "Fichier : /root/.cache/pooch/Meteostation_10_07.nc\n",
            "Variables disponibles : ['time', 'Batt', 'Ptemp', 'AirTC', 'RH', 'Slrw', 'Slrm', 'WS', 'WindDir', 'Rain', 'BP', 'WindGust', 'time_qual', 'Batt_qual', 'Ptemp_qual', 'AirTC_qual', 'RH_qual', 'Slrw_qual', 'Slrm_qual', 'WS_qual', 'WindDir_qual', 'Rain_qual', 'BP_qual', 'WindGust_qual']\n",
            "Error opening /root/.cache/pooch/Meteostation_10_07.nc: name 'all_variables' is not defined\n",
            "Fichier : /root/.cache/pooch/Meteostation_10_14.nc\n",
            "Variables disponibles : ['time', 'Batt', 'Ptemp', 'AirTC', 'RH', 'Slrw', 'Slrm', 'WS', 'WindDir', 'Rain', 'BP', 'WindGust', 'time_qual', 'Batt_qual', 'Ptemp_qual', 'AirTC_qual', 'RH_qual', 'Slrw_qual', 'Slrm_qual', 'WS_qual', 'WindDir_qual', 'Rain_qual', 'BP_qual', 'WindGust_qual']\n",
            "Error opening /root/.cache/pooch/Meteostation_10_14.nc: name 'all_variables' is not defined\n",
            "Fichier : /root/.cache/pooch/Meteostation_10_21.nc\n",
            "Variables disponibles : ['time', 'Batt', 'Ptemp', 'AirTC', 'RH', 'Slrw', 'Slrm', 'WS', 'WindDir', 'Rain', 'BP', 'WindGust', 'time_qual', 'Batt_qual', 'Ptemp_qual', 'AirTC_qual', 'RH_qual', 'Slrw_qual', 'Slrm_qual', 'WS_qual', 'WindDir_qual', 'Rain_qual', 'BP_qual', 'WindGust_qual']\n",
            "Error opening /root/.cache/pooch/Meteostation_10_21.nc: name 'all_variables' is not defined\n"
          ]
        }
      ]
    },
    {
      "cell_type": "code",
      "source": [
        "# Load all files as a dataset\n",
        "datasets = []\n",
        "for file in downloaded_files:\n",
        "    try:\n",
        "        # Explicitly specify the engine as 'netcdf4'\n",
        "        dataset = xr.open_dataset(file, engine='netcdf4')\n",
        "        datasets.append(dataset)\n",
        "    except Exception as e:\n",
        "        print(f\"Error opening {file}: {e}\")\n",
        "\n",
        "# Merge on a common dimension (e.g. ‘time’)\n",
        "data = xr.concat(datasets, dim=\"time\")\n",
        "\n",
        "# Inspect the result\n",
        "print(data)\n",
        "\n",
        "# Save the merged result\n",
        "data.to_netcdf(\"data_merged.nc\")"
      ],
      "metadata": {
        "id": "H4Q2MvQ6TI_-"
      },
      "execution_count": null,
      "outputs": []
    },
    {
      "cell_type": "code",
      "source": [],
      "metadata": {
        "id": "2EieA5mIGrCv"
      },
      "execution_count": null,
      "outputs": []
    },
    {
      "cell_type": "code",
      "source": [],
      "metadata": {
        "id": "e5NLHZjbGq_F"
      },
      "execution_count": null,
      "outputs": []
    },
    {
      "cell_type": "code",
      "source": [],
      "metadata": {
        "id": "9LBOvB6oGq66"
      },
      "execution_count": null,
      "outputs": []
    },
    {
      "cell_type": "code",
      "source": [],
      "metadata": {
        "id": "d3FM8sY4Gq3R"
      },
      "execution_count": null,
      "outputs": []
    }
  ]
}